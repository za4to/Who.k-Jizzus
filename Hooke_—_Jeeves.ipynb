{
  "nbformat": 4,
  "nbformat_minor": 0,
  "metadata": {
    "colab": {
      "name": "Hooke — Jeeves.ipynb",
      "provenance": [],
      "collapsed_sections": []
    },
    "kernelspec": {
      "name": "python3",
      "display_name": "Python 3"
    },
    "language_info": {
      "name": "python"
    }
  },
  "cells": [
    {
      "cell_type": "markdown",
      "metadata": {
        "id": "w57nGTXbNLht"
      },
      "source": [
        "# Многомерная минимизация методом Хука Дживса\n",
        "Цель работы :\n",
        "*   Реализовать метод Хука–Дживса для минимизации многомерных функций. \n",
        "*   Экспериментально сравнить его с методами первого и второго порядка."
      ]
    },
    {
      "cell_type": "markdown",
      "metadata": {
        "id": "6vbpsY59OLw4"
      },
      "source": [
        "# Метод Хука Дживса\n",
        "Смысл метода Хука дживса заключаеться в поочередном применении исследующего поиска и посика по шаблону.\n",
        "Для начала импортируем все нужные библиотеки."
      ]
    },
    {
      "cell_type": "code",
      "metadata": {
        "id": "pIN0FT0iQQmN"
      },
      "source": [
        "import matplotlib.pyplot as plt\n",
        "import numpy as np\n",
        "%matplotlib inline\n",
        "from scipy import linalg\n",
        "import math"
      ],
      "execution_count": null,
      "outputs": []
    },
    {
      "cell_type": "markdown",
      "metadata": {
        "id": "8yEofHwRQ0oW"
      },
      "source": [
        "Теперь реализуем метод Хука дживса. \n",
        "Сначала функция проводит исследующий поиск по всем координатам, мы получим новую точку с наименьшим значением функции в окрестности. Из полученой информации мы можем узнать в каком направлении убывает функция. Продолжая двигаться в этом напровлении мы можем понять в какую сторону изменяеться функция и найти ее экстремум."
      ]
    },
    {
      "cell_type": "code",
      "metadata": {
        "id": "eiYG08jSNBRz"
      },
      "source": [
        "def hooke_jeeves0(fun, x0, h=10.0, tol=1e-10):\n",
        "    x = x0\n",
        "    n = len(x0)\n",
        "    while True:\n",
        "        y = x.copy() # x - текущая точка, y - следующая\n",
        "        while True:\n",
        "            # Сначала аходим минимум в окресности\n",
        "            f_min = fun(y)\n",
        "            for j in range(n):\n",
        "                y[j] += h\n",
        "                f = fun(y)\n",
        "                if (f < f_min):\n",
        "                    f_min = f\n",
        "                else:\n",
        "                    y[j] -= 2*h\n",
        "                    f = fun(y)\n",
        "                    if (f < f_min):\n",
        "                        f_min = f\n",
        "                    else:\n",
        "                        y[j] += h\n",
        "            # Затем определяем направление движения\n",
        "            if fun(y) < fun(x):\n",
        "                x, y = y, 2*y - x;\n",
        "                continue\n",
        "            if linalg.norm(h) < tol:\n",
        "                return x\n",
        "            h /= 2\n",
        "            break"
      ],
      "execution_count": null,
      "outputs": []
    },
    {
      "cell_type": "markdown",
      "metadata": {
        "id": "D4TNSe9PUZEB"
      },
      "source": [
        "Затем создадим произвольную функцию от двух переменных и x0 для нее. \n",
        "$$f=2\\sqrt { \\frac{ x^2+y^2}{3}}$$\n"
      ]
    },
    {
      "cell_type": "code",
      "metadata": {
        "id": "KpWp4iFbVPOO"
      },
      "source": [
        "x0 = np.array([2, 2])\n",
        "fun = lambda x: 2*math.sqrt((x[0]**2+x[1]**2)/3)\n"
      ],
      "execution_count": null,
      "outputs": []
    },
    {
      "cell_type": "markdown",
      "metadata": {
        "id": "PvZRhlPzZe2U"
      },
      "source": [
        "Попробуем получить минимум методом Хука Дживса"
      ]
    },
    {
      "cell_type": "code",
      "metadata": {
        "colab": {
          "base_uri": "https://localhost:8080/"
        },
        "id": "PUCxLiZWWUaF",
        "outputId": "25e9d26b-5965-4e98-dd54-79c6ec434823"
      },
      "source": [
        "hooke_jeeves0(fun,x0,len(x0)/2)\n"
      ],
      "execution_count": null,
      "outputs": [
        {
          "output_type": "execute_result",
          "data": {
            "text/plain": [
              "array([0, 0])"
            ]
          },
          "metadata": {
            "tags": []
          },
          "execution_count": 52
        }
      ]
    },
    {
      "cell_type": "markdown",
      "metadata": {
        "id": "yhaF5399bUmu"
      },
      "source": [
        "Результат верный, так как минимум функции достигаеться в точке (0,0)\n",
        "Попробуем слегка изменить функцию и посмотреть повлияет ли это на результат\n",
        "$$f=2\\sqrt { \\frac{ x^2+(y-2)^2}{3}}$$"
      ]
    },
    {
      "cell_type": "code",
      "metadata": {
        "colab": {
          "base_uri": "https://localhost:8080/"
        },
        "id": "FzxLuUolXi-o",
        "outputId": "74d4343e-4ce8-413a-bed1-7f40cfa175a7"
      },
      "source": [
        "fun1 = lambda x: 2*math.sqrt((x[0]**2+(x[1]-2)**2)/3)\n",
        "hooke_jeeves0(fun1,x0,len(x0)/2)\n"
      ],
      "execution_count": null,
      "outputs": [
        {
          "output_type": "execute_result",
          "data": {
            "text/plain": [
              "array([0, 2])"
            ]
          },
          "metadata": {
            "tags": []
          },
          "execution_count": 61
        }
      ]
    },
    {
      "cell_type": "markdown",
      "metadata": {
        "id": "nptos7BzdXKP"
      },
      "source": [
        "Получаем ожидаемый результат в виде точки (0,2)"
      ]
    },
    {
      "cell_type": "markdown",
      "metadata": {
        "id": "4AMLQDbJdwia"
      },
      "source": [
        "# Сравнение с методами первого и второго порядка"
      ]
    },
    {
      "cell_type": "code",
      "metadata": {
        "id": "hyLisjwgepu8"
      },
      "source": [
        "from scipy.optimize import minimize, OptimizeResult, rosen, rosen_der, rosen_hess"
      ],
      "execution_count": null,
      "outputs": []
    },
    {
      "cell_type": "markdown",
      "metadata": {
        "id": "-J-s7tqbeo_A"
      },
      "source": [
        "В качестве метода первого порядка возьмем градиентный спуск, а второго - BFGS \n",
        "Для сравнения методов воспользуемся встроенной в scipy функцией Розенброка\n",
        "$$f(x, y) = (1-x)^2 + 100(y-x^2)^2$$\n",
        "ее минимум очевидно находиться в точке (1,1), а сама функция принимает в ней знаечение 0"
      ]
    },
    {
      "cell_type": "markdown",
      "metadata": {
        "id": "UOdRMCjmhkt7"
      },
      "source": [
        "Реализуем метод градиентного спуска подходящим для вызова через scipy.minimize"
      ]
    },
    {
      "cell_type": "code",
      "metadata": {
        "id": "iJQnXqtMfTO_"
      },
      "source": [
        "def greedy_min(fun, x0, args=(), maxfev=None, alpha=0.0001,\n",
        "        maxiter=100000, tol=1e-10, callback=None, **options):\n",
        "    bestx = x0\n",
        "    besty = fun(x0)\n",
        "    funcalls = 1\n",
        "    niter = 0\n",
        "    improved = True\n",
        "    stop = False\n",
        "\n",
        "    while improved and not stop and niter < maxiter:\n",
        "        niter += 1\n",
        "        step = alpha * rosen_der(bestx)\n",
        "        bestx = bestx - step\n",
        "\n",
        "        besty = fun(bestx)\n",
        "        funcalls += 1\n",
        "\n",
        "        if linalg.norm(step) < tol:\n",
        "            improved = False\n",
        "        if callback is not None:\n",
        "            callback(bestx)\n",
        "        if maxfev is not None and funcalls >= maxfev:\n",
        "            stop = True\n",
        "            break\n",
        "\n",
        "    return OptimizeResult(fun=besty, x=bestx, nit=niter,\n",
        "                              nfev=funcalls, success=(niter > 1))\n",
        "\n"
      ],
      "execution_count": null,
      "outputs": []
    },
    {
      "cell_type": "code",
      "metadata": {
        "colab": {
          "base_uri": "https://localhost:8080/"
        },
        "id": "HVRz2R0hicsH",
        "outputId": "a7d6362c-e682-4235-ac5e-0a74fde205fc"
      },
      "source": [
        "x0 = np.array([4.0, -4.0])\n",
        "minimize(rosen, x0, method=greedy_min)"
      ],
      "execution_count": null,
      "outputs": [
        {
          "output_type": "execute_result",
          "data": {
            "text/plain": [
              "     fun: 3.178542782474229e-05\n",
              "    nfev: 100001\n",
              "     nit: 100000\n",
              " success: True\n",
              "       x: array([0.99436668, 0.98874248])"
            ]
          },
          "metadata": {
            "tags": []
          },
          "execution_count": 80
        }
      ]
    },
    {
      "cell_type": "markdown",
      "metadata": {
        "id": "Jo85ooQFjAUZ"
      },
      "source": [
        "Результат работы приблизился к минимуму функции вплоть до 0.01, однако поиск этим методом усперся в 100000 вызовов функции и оказался крайне неэффективен."
      ]
    },
    {
      "cell_type": "markdown",
      "metadata": {
        "id": "6i9dWtvllX6W"
      },
      "source": [
        "Попробуем получить минимум функции через BFGS"
      ]
    },
    {
      "cell_type": "code",
      "metadata": {
        "colab": {
          "base_uri": "https://localhost:8080/"
        },
        "id": "eEN9WpVKlr5S",
        "outputId": "b0229adf-a390-4050-ad9d-e6c8e9cb9fe6"
      },
      "source": [
        "minimize(rosen, x0, method='BFGS', jac=rosen_der)"
      ],
      "execution_count": null,
      "outputs": [
        {
          "output_type": "execute_result",
          "data": {
            "text/plain": [
              "      fun: 3.454471515983806e-14\n",
              " hess_inv: array([[0.52301833, 1.04972664],\n",
              "       [1.04972664, 2.11241592]])\n",
              "      jac: array([-6.08772817e-06,  3.14309623e-06])\n",
              "  message: 'Optimization terminated successfully.'\n",
              "     nfev: 74\n",
              "      nit: 56\n",
              "     njev: 74\n",
              "   status: 0\n",
              "  success: True\n",
              "        x: array([1.0000001 , 1.00000021])"
            ]
          },
          "metadata": {
            "tags": []
          },
          "execution_count": 81
        }
      ]
    },
    {
      "cell_type": "markdown",
      "metadata": {
        "id": "HfbtN1Btl2mE"
      },
      "source": [
        "Методу потребовалось всего 56 итераций для получения значения, с точностью до 7 знака после запятой. В сравнении с градиентныйм спуском этот метод оказался намного быстрее."
      ]
    },
    {
      "cell_type": "markdown",
      "metadata": {
        "id": "wC5H7aYRmd1O"
      },
      "source": [
        "Слегка изменим уже написаную функцию для метода Хука дживса, чтоб получить возможность вызывать ее через scipy.minimize"
      ]
    },
    {
      "cell_type": "code",
      "metadata": {
        "id": "fInOtkrRmoRl"
      },
      "source": [
        "def hooke_jeeves(fun, x0, h=1.0, tol=1e-10, args=(), callback=None, **options):\n",
        "    bestx = x0\n",
        "    besty = fun(x0)\n",
        "    funcalls = 1\n",
        "    niter = 0\n",
        "    improved = True\n",
        "    stop = False\n",
        "    \n",
        "    x = x0\n",
        "    fx = fun(x)\n",
        "    n = len(x0)\n",
        "    while True:\n",
        "        y = x.copy()\n",
        "        while True:\n",
        "            niter += 1\n",
        "            if callback is not None:\n",
        "                callback(x)\n",
        "            fy = fun(y); funcalls += 1\n",
        "            for j in range(n):\n",
        "                y[j] += h\n",
        "                f = fun(y); funcalls += 1\n",
        "                if (f < fy):\n",
        "                    fy = f\n",
        "                else:\n",
        "                    y[j] -= 2*h\n",
        "                    f = fun(y); funcalls += 1\n",
        "                    if (f < fy):\n",
        "                        fy = f\n",
        "                    else:\n",
        "                        y[j] += h\n",
        "            if fy < fx:\n",
        "                x, y = y, 2*y - x\n",
        "                fx = fy\n",
        "                continue\n",
        "            if linalg.norm(h) < tol:\n",
        "                return OptimizeResult(fun=fx, x=x, nit=niter,\n",
        "                              nfev=funcalls, success=(niter > 1))\n",
        "            h /= 2\n",
        "            break"
      ],
      "execution_count": null,
      "outputs": []
    },
    {
      "cell_type": "markdown",
      "metadata": {
        "id": "4Xaf6lWAmxYl"
      },
      "source": [
        "Попробуем получить результат через метод Хука Дживса"
      ]
    },
    {
      "cell_type": "code",
      "metadata": {
        "colab": {
          "base_uri": "https://localhost:8080/"
        },
        "id": "ufGvISM9m1yG",
        "outputId": "6395e718-cf5b-4a40-c3dc-0c3c68998bc7"
      },
      "source": [
        "minimize(rosen, x0, method=hooke_jeeves)"
      ],
      "execution_count": null,
      "outputs": [
        {
          "output_type": "execute_result",
          "data": {
            "text/plain": [
              "     fun: 5.421010862427522e-20\n",
              "    nfev: 1537\n",
              "     nit: 339\n",
              " success: True\n",
              "       x: array([1., 1.])"
            ]
          },
          "metadata": {
            "tags": []
          },
          "execution_count": 84
        }
      ]
    },
    {
      "cell_type": "markdown",
      "metadata": {
        "id": "n19hClLtm65A"
      },
      "source": [
        "В итоге за 339 итераций мы получили точный результат минимума."
      ]
    },
    {
      "cell_type": "markdown",
      "metadata": {
        "id": "QLsz9NUKnJZ4"
      },
      "source": [
        "# Вывод\n",
        "При выборе между методами нулевого, первого и второго порядка стоит вопрос в точности и скорости работы. Если вопрос стоит в точности получаймого значения, то стоит использовать метод Хука Дживса, а если в скорости вычисления - то BFSG.\n",
        "Не существует идельного метода гарантирующего и лучшую скорость, и максимальную точность."
      ]
    }
  ]
}